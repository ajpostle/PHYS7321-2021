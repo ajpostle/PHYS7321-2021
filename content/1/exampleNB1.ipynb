{
 "cells": [
  {
   "cell_type": "code",
   "execution_count": 1,
   "id": "nutritional-motel",
   "metadata": {},
   "outputs": [],
   "source": [
    "job=100"
   ]
  },
  {
   "cell_type": "code",
   "execution_count": 2,
   "id": "active-hardware",
   "metadata": {},
   "outputs": [],
   "source": [
    "for j in range(100):\n",
    "    job=job+j"
   ]
  },
  {
   "cell_type": "code",
   "execution_count": 3,
   "id": "equipped-thong",
   "metadata": {},
   "outputs": [
    {
     "name": "stdout",
     "output_type": "stream",
     "text": [
      "5050\n"
     ]
    }
   ],
   "source": [
    "print(job)"
   ]
  },
  {
   "cell_type": "code",
   "execution_count": 4,
   "id": "assumed-tours",
   "metadata": {},
   "outputs": [
    {
     "name": "stdout",
     "output_type": "stream",
     "text": [
      "5049\n"
     ]
    }
   ],
   "source": [
    "for j in range(job):\n",
    "    if j > 5048:\n",
    "        print(j)"
   ]
  },
  {
   "cell_type": "markdown",
   "id": "minimal-diagnosis",
   "metadata": {},
   "source": []
  }
 ],
 "metadata": {
  "kernelspec": {
   "display_name": "Python 3",
   "language": "python",
   "name": "python3"
  },
  "language_info": {
   "codemirror_mode": {
    "name": "ipython",
    "version": 3
   },
   "file_extension": ".py",
   "mimetype": "text/x-python",
   "name": "python",
   "nbconvert_exporter": "python",
   "pygments_lexer": "ipython3",
   "version": "3.9.4"
  }
 },
 "nbformat": 4,
 "nbformat_minor": 5
}
