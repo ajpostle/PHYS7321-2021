{
 "cells": [
  {
   "cell_type": "markdown",
   "id": "linear-operations",
   "metadata": {},
   "source": [
    "Manipulating numbers in Python\n",
    "================\n",
    "\n",
    "**_Disclaimer_: Much of this section has been transcribed from <a href=\"https://pymotw.com/2/math/\">https://pymotw.com/2/math/</a>** \n",
    "\n",
    "Every computer represents numbers using the <a href=\"https://en.wikipedia.org/wiki/IEEE_floating_point\">IEEE floating point standard</a>. The **math** module implements many of the IEEE functions that would normally be found in the native platform C libraries for complex mathematical operations using floating point values, including logarithms and trigonometric operations. \n",
    "\n",
    "The fundamental information about number representation is contained in the module **sys**"
   ]
  },
  {
   "cell_type": "code",
   "execution_count": null,
   "id": "incorporate-crawford",
   "metadata": {},
   "outputs": [],
   "source": [
    "import sys \n",
    "\n",
    "sys.float_info"
   ]
  },
  {
   "cell_type": "markdown",
   "id": "discrete-strip",
   "metadata": {},
   "source": [
    "From this, one can obtain much information, such as the largest allowable floating point number."
   ]
  },
  {
   "cell_type": "code",
   "execution_count": null,
   "id": "unusual-approach",
   "metadata": {},
   "outputs": [],
   "source": [
    "sys.float_info.max"
   ]
  },
  {
   "cell_type": "markdown",
   "id": "photographic-guest",
   "metadata": {},
   "source": [
    "There is also a built-in \"infinity\" value that can be used as one would expect."
   ]
  },
  {
   "cell_type": "code",
   "execution_count": null,
   "id": "outside-testing",
   "metadata": {},
   "outputs": [],
   "source": [
    "infinity = float(\"inf\")\n",
    "infinity"
   ]
  },
  {
   "cell_type": "markdown",
   "id": "rural-copyright",
   "metadata": {},
   "source": [
    "## Question \n",
    "Perform some manipulations with infinity. See that is behaves like a number."
   ]
  },
  {
   "cell_type": "markdown",
   "id": "wireless-marriage",
   "metadata": {},
   "source": [
    "To make life easier, Python also has some built-in constants."
   ]
  },
  {
   "cell_type": "code",
   "execution_count": null,
   "id": "working-component",
   "metadata": {},
   "outputs": [],
   "source": [
    "import math\n",
    "\n",
    "print 'π: %.30f' % math.pi \n",
    "print ('e: %.30f' % math.e )"
   ]
  },
  {
   "cell_type": "markdown",
   "id": "compliant-nigeria",
   "metadata": {},
   "source": [
    "Exceptions: There are times when we obtain the dreaded NaN (Not a Number). The math module has a function that will check if a number is NaN.   \n",
    "## Question \n",
    "try using the math.isnan() function. This function returns true is the arg is Not a Number.  Find an example of NaN that can be identified with this function. For example, something along the lines of \"print math.isnon(variable)\", where \"variable\" is not a number."
   ]
  },
  {
   "cell_type": "markdown",
   "id": "tutorial-regulation",
   "metadata": {},
   "source": [
    "Absolute values: The math library has the fabs function that can return the absolute value of a floating-point number."
   ]
  },
  {
   "cell_type": "code",
   "execution_count": null,
   "id": "sufficient-necklace",
   "metadata": {},
   "outputs": [],
   "source": [
    "import math\n",
    "\n",
    "print (math.fabs(-1.1))\n",
    "print (math.fabs(-0.0))\n",
    "print (math.fabs(0.0))\n",
    "print (math.fabs(1.1))"
   ]
  },
  {
   "cell_type": "markdown",
   "id": "acute-violin",
   "metadata": {},
   "source": [
    "## Commonly Used Calculations\n",
    "\n",
    "Representing precise values in binary floating point memory is challenging. Some values cannot be represented exactly, and the more often a value is manipulated through repeated calculations, the more likely a representation error will be introduced. math includes a function for computing the sum of a series of floating point numbers using an efficient algorithm that minimize such errors."
   ]
  },
  {
   "cell_type": "code",
   "execution_count": null,
   "id": "comfortable-expression",
   "metadata": {},
   "outputs": [],
   "source": [
    "import math\n",
    "\n",
    "values = [ 0.1 ] * 10\n",
    "\n",
    "print 'Input values:', values\n",
    "\n",
    "print 'sum()       : {:.20f}'.format(sum(values))\n",
    "\n",
    "s = 0.0\n",
    "for i in values:\n",
    "    s += i\n",
    "print 'for-loop    : {:.20f}'.format(s)\n",
    "    \n",
    "print 'math.fsum() : {:.20f}'.format(math.fsum(values))"
   ]
  },
  {
   "cell_type": "markdown",
   "id": "relative-hearing",
   "metadata": {},
   "source": [
    "Given a sequence of ten values each equal to 0.1, the expected value for the sum of the sequence is 1.0. Since 0.1 cannot be represented exactly as a floating point value, however, errors are introduced into the sum unless it is calculated with **fsum()**.\n",
    "\n",
    "**factorial()** is commonly used to calculate the number of permutations and combinations of a series of objects. The factorial of a positive integer n, expressed n!, is defined recursively as (n-1)! * n and stops with 0! == 1. **factorial()** only works with whole numbers, but does accept float arguments as long as they can be converted to an integer without losing value."
   ]
  },
  {
   "cell_type": "code",
   "execution_count": null,
   "id": "cubic-wallet",
   "metadata": {},
   "outputs": [],
   "source": [
    "import math\n",
    "\n",
    "for i in [ 0, 1.0, 2.0, 3.0, 4.0, 5.0, 6.1 ]:\n",
    "    try:\n",
    "        print ('{:2d}  {:6.0f}'.format(i, math.factorial(i)))\n",
    "    except ValueError as err:\n",
    "        print ('Error computing factorial(%s):' % i, err)"
   ]
  },
  {
   "cell_type": "markdown",
   "id": "veterinary-bottle",
   "metadata": {},
   "source": [
    "The modulo operator (%) computes the remainder of a division expression (i.e., 5 % 2 = 1). The operator built into the language works well with integers but, as with so many other floating point operations, intermediate calculations cause representational issues that result in a loss of data. fmod() provides a more accurate implementation for floating point values."
   ]
  },
  {
   "cell_type": "code",
   "execution_count": null,
   "id": "congressional-istanbul",
   "metadata": {},
   "outputs": [],
   "source": [
    "import math\n",
    "\n",
    "print ('{:^4}  {:^4}  {:^5}  {:^5}'.format('x', 'y', '%', 'fmod'))\n",
    "print ('----  ----  -----  -----')\n",
    "\n",
    "for x, y in [ (5, 2),\n",
    "              (5, -2),\n",
    "              (-5, 2),\n",
    "              ]:\n",
    "    print (\"{:4.1f}  {:4.1f}  {:5.2f}  {:5.2f}\".format(x, x, x % y, math.fmod(x, y)))"
   ]
  },
  {
   "cell_type": "markdown",
   "id": "bored-compensation",
   "metadata": {},
   "source": [
    "A potentially more frequent source of confusion is the fact that the algorithm used by fmod for computing modulo is also different from that used by %, so the sign of the result is different. mixed-sign inputs."
   ]
  },
  {
   "cell_type": "markdown",
   "id": "matched-surgeon",
   "metadata": {},
   "source": [
    "## Exponents and Logarithms\n",
    "\n",
    "Exponential growth curves appear in economics, physics, and other sciences. Python has a built-in exponentiation operator (“\\*\\*”), but pow() can be useful when you need to pass a callable function as an argument.  These conventions are supported by other languages, as well.  Sometimes one can use the \"\\^\" character to raise the power in an expression."
   ]
  },
  {
   "cell_type": "code",
   "execution_count": null,
   "id": "altered-riverside",
   "metadata": {},
   "outputs": [],
   "source": [
    "import math\n",
    "\n",
    "for x, y in [\n",
    "    # Typical uses\n",
    "    (2, 3),\n",
    "    (2.1, 3.2),\n",
    "\n",
    "    # Always 1\n",
    "    (1.0, 5),\n",
    "    (2.0, 0),\n",
    "\n",
    "    # Not-a-number\n",
    "    (2, float('nan')),\n",
    "\n",
    "    # Roots\n",
    "    (9.0, 0.5),\n",
    "    (27.0, 1.0/3),\n",
    "    ]:\n",
    "    print '{:5.1f} ** {:5.3f} = {:6.3f}'.format(x, y, math.pow(x, y))"
   ]
  },
  {
   "cell_type": "markdown",
   "id": "inside-arctic",
   "metadata": {},
   "source": [
    "Since square roots (exponent of 1/2) are used so frequently, there is a separate function for computing them."
   ]
  },
  {
   "cell_type": "code",
   "execution_count": null,
   "id": "removed-intellectual",
   "metadata": {},
   "outputs": [],
   "source": [
    "import math\n",
    "\n",
    "print math.sqrt(9.0)\n",
    "print math.sqrt(3)\n",
    "try:\n",
    "    print math.sqrt(-1)\n",
    "except ValueError as err:\n",
    "    print 'Cannot compute sqrt(-1):', err\n",
    "    "
   ]
  },
  {
   "cell_type": "markdown",
   "id": "fresh-bermuda",
   "metadata": {},
   "source": [
    "There are two variations of **log()**. Given floating point representation and rounding errors the computed value produced by **log(x, b)** has limited accuracy, especially for some bases. **log10()** computes **log(x, 10)**, using a more accurate algorithm than **log()**."
   ]
  },
  {
   "cell_type": "code",
   "execution_count": null,
   "id": "nonprofit-harvest",
   "metadata": {},
   "outputs": [],
   "source": [
    "import math\n",
    "\n",
    "print '{:2}  {:^12}  {:^20}  {:^20}  {:8}'.format('i', 'x', 'accurate', 'inaccurate', 'mismatch')\n",
    "print '{:-^2}  {:-^12}  {:-^20}  {:-^20}  {:-^8}'.format('', '', '', '', '')\n",
    "\n",
    "for i in range(0, 10):\n",
    "    x = math.pow(10, i)\n",
    "    accurate = math.log10(x)\n",
    "    inaccurate = math.log(x, 10)\n",
    "    match = '' if int(inaccurate) == i else '*'\n",
    "    print '{:2d}  {:12.1f}  {:20.18f}  {:20.18f}  {:^5}'.format(i, x, accurate, inaccurate, match)"
   ]
  },
  {
   "cell_type": "markdown",
   "id": "adolescent-bonus",
   "metadata": {},
   "source": [
    "Similarly e raised to a power is so commonly used that a special function is available for evaluating it."
   ]
  },
  {
   "cell_type": "code",
   "execution_count": null,
   "id": "entertaining-ratio",
   "metadata": {},
   "outputs": [],
   "source": [
    "import math\n",
    "\n",
    "x = 2\n",
    "\n",
    "fmt = '%.20f'\n",
    "print (fmt % (math.e ** 2))\n",
    "print fmt % math.pow(math.e, 2)\n",
    "print fmt % math.exp(2)"
   ]
  },
  {
   "cell_type": "markdown",
   "id": "banner-statistics",
   "metadata": {},
   "source": [
    "For more information about other mathematical functions, including trigonometric ones, we refer to <a href=\"https://pymotw.com/2/math/\">https://pymotw.com/2/math/</a>\n",
    "\n",
    "The python references can be found at <a href=\"https://docs.python.org/2/library/math.html\">https://docs.python.org/2/library/math.html</a>"
   ]
  }
 ],
 "metadata": {
  "kernelspec": {
   "display_name": "Python 3",
   "language": "python",
   "name": "python3"
  },
  "language_info": {
   "codemirror_mode": {
    "name": "ipython",
    "version": 3
   },
   "file_extension": ".py",
   "mimetype": "text/x-python",
   "name": "python",
   "nbconvert_exporter": "python",
   "pygments_lexer": "ipython3",
   "version": "3.9.4"
  }
 },
 "nbformat": 4,
 "nbformat_minor": 5
}
