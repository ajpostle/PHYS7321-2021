{
 "cells": [
  {
   "cell_type": "markdown",
   "id": "preceding-traffic",
   "metadata": {},
   "source": [
    "Let's look at some examples of for loops. Our variable will be \"car\" and the list of values will be colors.  Then, we will write each car color name. \n",
    "\n",
    "First define a list of colors"
   ]
  },
  {
   "cell_type": "code",
   "execution_count": 1,
   "id": "impressive-nightmare",
   "metadata": {},
   "outputs": [],
   "source": [
    "colors = [\"red\", \"orange\", \"blue\"]"
   ]
  },
  {
   "cell_type": "code",
   "execution_count": 2,
   "id": "ordinary-spectrum",
   "metadata": {},
   "outputs": [
    {
     "name": "stdout",
     "output_type": "stream",
     "text": [
      "red\n",
      "orange\n",
      "blue\n"
     ]
    }
   ],
   "source": [
    "for car in colors:\n",
    "    print(car)"
   ]
  },
  {
   "cell_type": "markdown",
   "id": "discrete-structure",
   "metadata": {},
   "source": [
    "In the above example, notice that \"print\" is indented.  That is how Python keeps track of the scope (i.e. what is inside the loop.) In most languages, one needs to enclose the loop instructions using some for of bracket.\n",
    "\n",
    "Now, since car is a string, let's use the format option to play with what we write"
   ]
  },
  {
   "cell_type": "code",
   "execution_count": 5,
   "id": "identical-function",
   "metadata": {},
   "outputs": [
    {
     "name": "stdout",
     "output_type": "stream",
     "text": [
      "my car is red\n",
      "my car is orange\n",
      "my car is blue\n"
     ]
    }
   ],
   "source": [
    "for car in colors:\n",
    "    print('my car is {:s}'.format(car))"
   ]
  },
  {
   "cell_type": "markdown",
   "id": "false-coffee",
   "metadata": {},
   "source": [
    "In the above example, we defined the string \"my car is {:s}\" and called the method \"format\".  But, we never had to declare the string as a variable."
   ]
  },
  {
   "cell_type": "markdown",
   "id": "several-teddy",
   "metadata": {},
   "source": [
    "We can also put the list of values directly in the loop declaration"
   ]
  },
  {
   "cell_type": "code",
   "execution_count": 6,
   "id": "subsequent-communication",
   "metadata": {},
   "outputs": [
    {
     "name": "stdout",
     "output_type": "stream",
     "text": [
      "my car is red\n",
      "my car is orange\n",
      "my car is blue\n"
     ]
    }
   ],
   "source": [
    "for car in [\"red\", \"orange\", \"blue\"]:\n",
    "    print('my car is {:s}'.format(car))"
   ]
  },
  {
   "cell_type": "markdown",
   "id": "married-conjunction",
   "metadata": {},
   "source": [
    "While it is useful to loop over lists of values, there are many times when we simply want to loop over entries in an array.  For example, we may want to loop over the values 0 to 10"
   ]
  },
  {
   "cell_type": "code",
   "execution_count": 9,
   "id": "reported-reform",
   "metadata": {},
   "outputs": [
    {
     "name": "stdout",
     "output_type": "stream",
     "text": [
      "0\n",
      "1\n",
      "2\n",
      "3\n",
      "4\n",
      "5\n",
      "6\n",
      "7\n",
      "8\n",
      "9\n"
     ]
    }
   ],
   "source": [
    "for index in range(10):\n",
    "    print(index)"
   ]
  },
  {
   "cell_type": "markdown",
   "id": "secure-contest",
   "metadata": {},
   "source": [
    "perhaps we only want to start at index 4"
   ]
  },
  {
   "cell_type": "code",
   "execution_count": 10,
   "id": "phantom-oakland",
   "metadata": {},
   "outputs": [
    {
     "name": "stdout",
     "output_type": "stream",
     "text": [
      "4\n",
      "5\n",
      "6\n",
      "7\n",
      "8\n",
      "9\n"
     ]
    }
   ],
   "source": [
    "for index in range(4,10):\n",
    "    print(index)"
   ]
  },
  {
   "cell_type": "markdown",
   "id": "wanted-handbook",
   "metadata": {},
   "source": [
    "one can also nest loops inside of other loops"
   ]
  },
  {
   "cell_type": "code",
   "execution_count": 12,
   "id": "temporal-concentrate",
   "metadata": {},
   "outputs": [
    {
     "name": "stdout",
     "output_type": "stream",
     "text": [
      "0 0\n",
      "0 1\n",
      "0 2\n",
      "0 3\n",
      "0 4\n",
      "1 1\n",
      "1 2\n",
      "1 3\n",
      "1 4\n",
      "2 2\n",
      "2 3\n",
      "2 4\n"
     ]
    }
   ],
   "source": [
    "for i in range(3):\n",
    "    for j in range(i,5):\n",
    "        print(i,j)"
   ]
  },
  {
   "cell_type": "code",
   "execution_count": null,
   "id": "actual-wright",
   "metadata": {},
   "outputs": [],
   "source": []
  }
 ],
 "metadata": {
  "kernelspec": {
   "display_name": "Python 3",
   "language": "python",
   "name": "python3"
  },
  "language_info": {
   "codemirror_mode": {
    "name": "ipython",
    "version": 3
   },
   "file_extension": ".py",
   "mimetype": "text/x-python",
   "name": "python",
   "nbconvert_exporter": "python",
   "pygments_lexer": "ipython3",
   "version": "3.9.4"
  }
 },
 "nbformat": 4,
 "nbformat_minor": 5
}
