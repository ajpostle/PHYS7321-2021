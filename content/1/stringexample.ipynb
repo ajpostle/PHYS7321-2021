{
 "cells": [
  {
   "cell_type": "markdown",
   "id": "tired-cause",
   "metadata": {},
   "source": [
    "First, let's see how the string-specific method \"format\" can be used.  First, we define a string that declares the format of something. In this case, an 8-character floating point value with 2 decimals"
   ]
  },
  {
   "cell_type": "code",
   "execution_count": 18,
   "id": "faced-royalty",
   "metadata": {},
   "outputs": [],
   "source": [
    "string = '{:8.2f}'"
   ]
  },
  {
   "cell_type": "markdown",
   "id": "outer-context",
   "metadata": {},
   "source": [
    "Now, let's use the \"format\" method to write the number 50 in 8.2f format"
   ]
  },
  {
   "cell_type": "code",
   "execution_count": 19,
   "id": "primary-france",
   "metadata": {},
   "outputs": [
    {
     "data": {
      "text/plain": [
       "'   50.00'"
      ]
     },
     "execution_count": 19,
     "metadata": {},
     "output_type": "execute_result"
    }
   ],
   "source": [
    "string.format(50)"
   ]
  },
  {
   "cell_type": "markdown",
   "id": "decimal-rabbit",
   "metadata": {},
   "source": [
    "Now, let's try something with 2 variables of different types and some fixed characters"
   ]
  },
  {
   "cell_type": "code",
   "execution_count": 20,
   "id": "german-baker",
   "metadata": {},
   "outputs": [],
   "source": [
    "string2 = '{:8.2f} fixed text {:8s}'"
   ]
  },
  {
   "cell_type": "code",
   "execution_count": 21,
   "id": "streaming-freeware",
   "metadata": {},
   "outputs": [
    {
     "data": {
      "text/plain": [
       "'   50.00 fixed text a string'"
      ]
     },
     "execution_count": 21,
     "metadata": {},
     "output_type": "execute_result"
    }
   ],
   "source": [
    "string2.format(50,'a string')"
   ]
  },
  {
   "cell_type": "markdown",
   "id": "collect-twenty",
   "metadata": {},
   "source": [
    "let's try one with two variables of the same type"
   ]
  },
  {
   "cell_type": "code",
   "execution_count": 14,
   "id": "differential-strap",
   "metadata": {},
   "outputs": [
    {
     "data": {
      "text/plain": [
       "'   30.00 is not equal to    20.00'"
      ]
     },
     "execution_count": 14,
     "metadata": {},
     "output_type": "execute_result"
    }
   ],
   "source": [
    "string3 = '{:8.2f} is not equal to {:8.2f}'\n",
    "string3.format(30,20)"
   ]
  },
  {
   "cell_type": "markdown",
   "id": "retired-briefs",
   "metadata": {},
   "source": [
    "What about those colons?  What are they doing?  If you don't include indices before, then they are essentially doing nothing.  The order of the arguments follows the order of the formatted values.  It should look exactly the same if you explicitly gave indices"
   ]
  },
  {
   "cell_type": "code",
   "execution_count": 15,
   "id": "separated-david",
   "metadata": {},
   "outputs": [],
   "source": [
    "string4 = '{0:8.2f} is not equal to {1:8.2f}'\n"
   ]
  },
  {
   "cell_type": "code",
   "execution_count": 16,
   "id": "derived-chuck",
   "metadata": {},
   "outputs": [
    {
     "data": {
      "text/plain": [
       "'   30.00 is not equal to    20.00'"
      ]
     },
     "execution_count": 16,
     "metadata": {},
     "output_type": "execute_result"
    }
   ],
   "source": [
    "string4.format(30,20)"
   ]
  },
  {
   "cell_type": "markdown",
   "id": "incident-organic",
   "metadata": {},
   "source": [
    "Now, flip the order of argument to formatted value"
   ]
  },
  {
   "cell_type": "code",
   "execution_count": 8,
   "id": "indonesian-relative",
   "metadata": {},
   "outputs": [],
   "source": [
    "string4 = '{1:8.2f} is not equal to {0:8.2f}'"
   ]
  },
  {
   "cell_type": "code",
   "execution_count": 9,
   "id": "executive-arctic",
   "metadata": {},
   "outputs": [
    {
     "data": {
      "text/plain": [
       "'   20.00 is not equal to    30.00'"
      ]
     },
     "execution_count": 9,
     "metadata": {},
     "output_type": "execute_result"
    }
   ],
   "source": [
    "string4.format(30,20)"
   ]
  }
 ],
 "metadata": {
  "kernelspec": {
   "display_name": "Python 3",
   "language": "python",
   "name": "python3"
  },
  "language_info": {
   "codemirror_mode": {
    "name": "ipython",
    "version": 3
   },
   "file_extension": ".py",
   "mimetype": "text/x-python",
   "name": "python",
   "nbconvert_exporter": "python",
   "pygments_lexer": "ipython3",
   "version": "3.9.4"
  }
 },
 "nbformat": 4,
 "nbformat_minor": 5
}
