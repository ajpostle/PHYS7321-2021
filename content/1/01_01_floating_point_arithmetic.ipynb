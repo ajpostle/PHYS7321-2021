{
 "cells": [
  {
   "cell_type": "markdown",
   "id": "featured-priority",
   "metadata": {},
   "source": [
    "For a basic pedagogical intro: <a href=\"http://www.geeksforgeeks.org/floating-point-representation-basics/\">http://www.geeksforgeeks.org/floating-point-representation-basics/</a>\n",
    "\n",
    "What Every Computer Scientist Should Know About Floating-Point Arithmetic <a href=\"https://docs.oracle.com/cd/E19957-01/806-3568/ncg_goldberg.html\">https://docs.oracle.com/cd/E19957-01/806-3568/ncg_goldberg.html</a>\n",
    "\n",
    "For more info about numeric types in python go to: <a href=\"https://docs.python.org/2/library/stdtypes.html\">https://docs.python.org/2/library/stdtypes.html</a>\n",
    "\n",
    "For more info on floating point arithmetic, go to: <a href=\"http://anh.cs.luc.edu/python/hands-on/3.1/handsonHtml/float.html\">http://anh.cs.luc.edu/python/hands-on/3.1/handsonHtml/float.html</a>\n",
    "\n",
    "For general information about floating point representation go to <a href=\"http://floating-point-gui.de/\">The Floating Point Guide</a>\n",
    "\n",
    "More on how to write formatted output, got to <a href=\"http://www.python-course.eu/python3_formatted_output.php\">http://www.python-course.eu/python3_formatted_output.php</a>\n",
    "\n",
    "Documentation on the **decimal** module at <a href=\"https://docs.python.org/2/library/decimal.html\">https://docs.python.org/2/library/decimal.html</a>\n",
    "\n",
    "Reference for converting between different types at <a href=\"http://www.informit.com/articles/article.aspx?p=459269&seqNum=7\">http://www.informit.com/articles/article.aspx?p=459269&seqNum=7</a>"
   ]
  },
  {
   "cell_type": "markdown",
   "id": "several-setup",
   "metadata": {},
   "source": [
    "Floating Point Arithmetic: Issues and Limitations\n",
    "===========================\n",
    "\n",
    "**_Disclaimer:_ This document has been transcribed from <a href=\"https://docs.python.org/2/tutorial/floatingpoint.html\">Python.org's on-line tutorial</a>**\n",
    "\n",
    "The best place to start is by looking at how a computer represents internally a floating point number using single bits at <a href=\"https://en.wikipedia.org/wiki/Double-precision_floating-point_format\">https://en.wikipedia.org/wiki/Double-precision_floating-point_format</a> or <a href=\"http://www.puntoflotante.net/FLOATING-POINT-FORMAT-IEEE-754.htm\">http://www.puntoflotante.net/FLOATING-POINT-FORMAT-IEEE-754.htm</a> (for 32 bits).\n",
    "\n",
    "Floating-point numbers are represented in computer hardware as base 2 (binary) fractions. For example, the decimal fraction\n",
    "\n",
    "0.125\n",
    "\n",
    "has value 1/10 + 2/100 + 5/1000, and in the same way the binary fraction\n",
    "\n",
    "0.001\n",
    "\n",
    "has value 0/2 + 0/4 + 1/8. These two fractions have identical values, the only real difference being that the first is written in base 10 fractional notation, and the second in base 2.\n",
    "\n",
    "Unfortunately, most decimal fractions cannot be represented exactly as binary fractions. A consequence is that, in general, the decimal floating-point numbers you enter are only approximated by the binary floating-point numbers actually stored in the machine.\n",
    "\n",
    "The problem is easier to understand at first in base 10. Consider the fraction 1/3. You can approximate that as a base 10 fraction:\n",
    "\n",
    "0.3\n",
    "\n",
    "or, better,\n",
    "\n",
    "0.33\n",
    "\n",
    "or, better,\n",
    "\n",
    "0.333\n",
    "\n",
    "and so on. No matter how many digits you’re willing to write down, the result will never be exactly 1/3, but will be an increasingly better approximation of 1/3.\n",
    "\n",
    "In the same way, no matter how many base 2 digits you’re willing to use, the decimal value 0.1 cannot be represented exactly as a base 2 fraction. In base 2, 1/10 is the infinitely repeating fraction\n",
    "\n",
    "0.0001100110011001100110011001100110011001100110011...\n",
    "\n",
    "Stop at any finite number of bits, and you get an approximation.\n",
    "\n",
    "On a typical machine running Python, there are 53 bits of precision available for a Python float, so the value stored internally when you enter the decimal number 0.1 is the binary fraction\n",
    "\n",
    "0.00011001100110011001100110011001100110011001100110011010\n",
    "\n",
    "which is close to, but not exactly equal to, 1/10.\n",
    "\n",
    "It’s easy to forget that the stored value is an approximation to the original decimal fraction, because of the way that floats are displayed at the interpreter prompt. Python only prints a decimal approximation to the true decimal value of the binary approximation stored by the machine. If Python were to print the true decimal value of the binary approximation stored for 0.1, it would have to display"
   ]
  },
  {
   "cell_type": "code",
   "execution_count": null,
   "id": "sharp-edward",
   "metadata": {},
   "outputs": [],
   "source": [
    "format(0.1, '.32f')"
   ]
  },
  {
   "cell_type": "markdown",
   "id": "junior-israel",
   "metadata": {},
   "source": [
    "## question: \n",
    "We used the format function, here.  Try to set up this same print expression using the format method of a string.  First, you will need to make a new cell to work in.  This can be done in one line...."
   ]
  },
  {
   "cell_type": "markdown",
   "id": "threaded-potential",
   "metadata": {},
   "source": [
    "In the above example, there are more digits than most people find useful, so Python keeps the number of digits manageable by displaying a rounded value instead\n",
    "\n",
    "Other surprises follow from this one. For example, if you try to round the value 2.675 to two decimal places, you get this"
   ]
  },
  {
   "cell_type": "code",
   "execution_count": null,
   "id": "structured-garlic",
   "metadata": {},
   "outputs": [],
   "source": [
    "round(2.675, 2)"
   ]
  },
  {
   "cell_type": "markdown",
   "id": "signal-record",
   "metadata": {},
   "source": [
    "The documentation for the built-in **round()** function says that it rounds to the nearest value. Since the decimal fraction 2.675 is exactly halfway between 2.67 and 2.68, you might expect the result here to be 2.68. It’s not, because when the decimal string 2.675 is converted to a binary floating-point number, it is approximated.  You can use the demimal module to see a more precise representation of how 2.675 is stored..."
   ]
  },
  {
   "cell_type": "code",
   "execution_count": null,
   "id": "satisfied-insulin",
   "metadata": {},
   "outputs": [],
   "source": [
    "from decimal import Decimal\n",
    "Decimal(2.675)"
   ]
  },
  {
   "cell_type": "markdown",
   "id": "transsexual-sound",
   "metadata": {},
   "source": [
    "## question\n",
    "Find another example?  Consider manipulations of 1/10.  Can you find a case where it gives a clearly non-exact answer?"
   ]
  },
  {
   "cell_type": "code",
   "execution_count": null,
   "id": "equipped-carpet",
   "metadata": {},
   "outputs": [],
   "source": []
  }
 ],
 "metadata": {
  "kernelspec": {
   "display_name": "Python 3",
   "language": "python",
   "name": "python3"
  },
  "language_info": {
   "codemirror_mode": {
    "name": "ipython",
    "version": 3
   },
   "file_extension": ".py",
   "mimetype": "text/x-python",
   "name": "python",
   "nbconvert_exporter": "python",
   "pygments_lexer": "ipython3",
   "version": "3.9.4"
  }
 },
 "nbformat": 4,
 "nbformat_minor": 5
}
